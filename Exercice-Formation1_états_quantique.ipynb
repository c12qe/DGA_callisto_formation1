{
 "cells": [
  {
   "cell_type": "markdown",
   "id": "4a2e8550-8cdb-4d99-918d-978aac36680a",
   "metadata": {},
   "source": [
    "# Notebook I : Les états et les opérateurs quantiques"
   ]
  },
  {
   "cell_type": "code",
   "execution_count": 1,
   "id": "bd532e6b-fe77-4232-829e-84ae73282af2",
   "metadata": {},
   "outputs": [],
   "source": [
    "# required imports:\n",
    "from qiskit.visualization import array_to_latex\n",
    "from qiskit.quantum_info import Statevector, random_statevector\n",
    "from qiskit.quantum_info.operators import Operator, Pauli\n",
    "from qiskit import QuantumCircuit\n",
    "from qiskit.circuit.library import HGate, CXGate\n",
    "import numpy as np"
   ]
  },
  {
   "cell_type": "markdown",
   "id": "ba4c8c8a-016f-470a-bccc-94bfa0a28a4e",
   "metadata": {},
   "source": [
    "## les vecteurs et la notion de Dirac"
   ]
  },
  {
   "cell_type": "markdown",
   "id": "9db1aa6a-0fb2-480f-9a6e-2c8f0f7bf57e",
   "metadata": {},
   "source": [
    "Dans ce notebook, vous avez appris différentes façons de représenter les états quantiques, y compris comment utiliser la notation de Bra-Ket (Dirac).\n",
    "\n",
    "Bien que la notation de Bra-Ket ne puisse pas être représentée exactement en code, nous pouvons représenter leurs équivalents vectoriels et matriciels avec Python.\n",
    "\n",
    "Par exemple, nous pouvons représenter $|0\\rangle$ à l'aide d'une liste python :"
   ]
  },
  {
   "cell_type": "code",
   "execution_count": 2,
   "id": "c0b9be0e-4a22-4e97-9eba-e19be1b131bf",
   "metadata": {},
   "outputs": [],
   "source": [
    "ket0 = [[1],[0]]"
   ]
  },
  {
   "cell_type": "markdown",
   "id": "f26b3413-e692-46e6-8496-ff161a935c91",
   "metadata": {},
   "source": [
    "Nous pouvons utiliser l'un des outils de visualisation de Qiskit pour rendre nos vecteurs plus agréables à regarder :"
   ]
  },
  {
   "cell_type": "code",
   "execution_count": 3,
   "id": "ec2805f4-57ae-40d1-b4f3-e259028fd56a",
   "metadata": {},
   "outputs": [
    {
     "data": {
      "text/latex": [
       "$$\n",
       "\n",
       "\\begin{bmatrix}\n",
       "1  \\\\\n",
       " 0  \\\\\n",
       " \\end{bmatrix}\n",
       "$$"
      ],
      "text/plain": [
       "<IPython.core.display.Latex object>"
      ]
     },
     "execution_count": 3,
     "metadata": {},
     "output_type": "execute_result"
    }
   ],
   "source": [
    "array_to_latex(ket0)"
   ]
  },
  {
   "cell_type": "markdown",
   "id": "211b5e73-d7e0-4a88-a2fe-7b811f49b0fc",
   "metadata": {},
   "source": [
    "Essayez celui-ci"
   ]
  },
  {
   "cell_type": "code",
   "execution_count": 4,
   "id": "c9d5f6bf-47ca-45ac-a733-44b3acab1b7f",
   "metadata": {},
   "outputs": [
    {
     "data": {
      "text/latex": [
       "$$\n",
       "\n",
       "\\begin{bmatrix}\n",
       "1 & 0  \\\\\n",
       " \\end{bmatrix}\n",
       "$$"
      ],
      "text/plain": [
       "<IPython.core.display.Latex object>"
      ]
     },
     "execution_count": 4,
     "metadata": {},
     "output_type": "execute_result"
    }
   ],
   "source": [
    "bra0 = [1,0]\n",
    "array_to_latex(bra0)"
   ]
  },
  {
   "cell_type": "markdown",
   "id": "e1df6bda-b62c-4528-930f-0cdfd7c9274d",
   "metadata": {},
   "source": [
    "#### Exercie 1 : Créez $|1\\rangle$ et $\\langle1|$ avec des listes python"
   ]
  },
  {
   "cell_type": "code",
   "execution_count": 6,
   "id": "666593d6-8a14-4bd9-94e4-ba30dfdae220",
   "metadata": {},
   "outputs": [],
   "source": [
    "\n"
   ]
  },
  {
   "cell_type": "markdown",
   "id": "bcf89847-abb8-4040-850d-2d909a9d17af",
   "metadata": {},
   "source": [
    "### Les `Statevector` de Qiskit\n",
    "\n",
    "Dans les conférences, vous avez appris à utiliser les vecteurs d'état pour représenter les états quantiques. Vous pouvez représenter les vecteurs d'états quantiques dans le code en utilisant la classe [`Statevector`] de Qiskit (https://qiskit.org/documentation/stubs/qiskit.quantum_info.Statevector.html).\n",
    "\n",
    "La classe `Statevector` de Qiskit peut prendre différentes formes d'entrée (par exemple une liste python, un tableau numpy, un autre vecteur d'état) pour construire un vecteur d'état.\n",
    "\n",
    "Prenons l'objet `bra0` que nous avons créé plus tôt et convertissons-le en un objet `Statevector` :"
   ]
  },
  {
   "cell_type": "code",
   "execution_count": 7,
   "id": "4cd8eda1-f419-445c-a611-de776a9ff35e",
   "metadata": {},
   "outputs": [
    {
     "name": "stdout",
     "output_type": "stream",
     "text": [
      "Statevector([1.+0.j, 0.+0.j],\n",
      "            dims=(2,))\n"
     ]
    }
   ],
   "source": [
    "sv_bra0 = Statevector(bra0)\n",
    "\n",
    "sv_bra0"
   ]
  },
  {
   "cell_type": "code",
   "execution_count": 8,
   "id": "f4308be8-c826-42e2-8cb3-7bda903b1e08",
   "metadata": {},
   "outputs": [
    {
     "data": {
      "text/latex": [
       "$$ |0\\rangle$$"
      ],
      "text/plain": [
       "<IPython.core.display.Latex object>"
      ]
     },
     "execution_count": 8,
     "metadata": {},
     "output_type": "execute_result"
    }
   ],
   "source": [
    "sv_bra0.draw('latex')"
   ]
  },
  {
   "cell_type": "markdown",
   "id": "a1246468-8d07-43ea-8c0e-ebaf2e937c87",
   "metadata": {},
   "source": [
    "Nous pouvons créer des vecteurs d'état plus complexes avec plusieurs qubits de cette manière :"
   ]
  },
  {
   "cell_type": "code",
   "execution_count": 9,
   "id": "afcb75c6-52f8-4c09-b967-da6aab7558b2",
   "metadata": {},
   "outputs": [
    {
     "data": {
      "text/latex": [
       "$$\\frac{1}{2} |00\\rangle+\\frac{3}{4} |01\\rangle+\\frac{4}{5} |10\\rangle+\\frac{3}{4} |11\\rangle$$"
      ],
      "text/plain": [
       "<IPython.core.display.Latex object>"
      ]
     },
     "execution_count": 9,
     "metadata": {},
     "output_type": "execute_result"
    }
   ],
   "source": [
    "sv_eq = Statevector([1/2, 3/4, 4/5, 6/8])\n",
    "\n",
    "sv_eq.draw('latex')"
   ]
  },
  {
   "cell_type": "markdown",
   "id": "9220a3a4-df7f-4628-aae1-c3b7b07f8e19",
   "metadata": {},
   "source": [
    "Notez que le vecteur ci-dessus n'est pas un vecteur d'état valide car il n'est pas normalisé. Nous pouvons le vérifier avec la méthode is_valid() :"
   ]
  },
  {
   "cell_type": "code",
   "execution_count": 10,
   "id": "e1fc87ac-0fcb-4b0d-b845-386bf307bbd5",
   "metadata": {},
   "outputs": [
    {
     "data": {
      "text/plain": [
       "False"
      ]
     },
     "execution_count": 10,
     "metadata": {},
     "output_type": "execute_result"
    }
   ],
   "source": [
    "sv_eq.is_valid()"
   ]
  },
  {
   "cell_type": "markdown",
   "id": "9b835672-a72b-4f3f-a062-569f115199ea",
   "metadata": {},
   "source": [
    "## Classe `Operator` de Qiskit\n",
    "\n",
    "La classe [`Operator`] (https://qiskit.org/documentation/stubs/qiskit.quantum_info.Operator.html#qiskit.quantum_info.Operator) est utilisée dans Qiskit pour représenter les opérateurs matriciels agissant sur un système quantique. Elle dispose de plusieurs méthodes pour construire des opérateurs composites en utilisant des produits tensoriels d'opérateurs plus petits, et pour composer des opérateurs.\n",
    "\n",
    "Une façon d'initialiser un `Operator` Qiskit est d'utiliser une liste python, comme celle que nous avons créée plus tôt :"
   ]
  },
  {
   "cell_type": "code",
   "execution_count": 11,
   "id": "b8843d6c-9481-4c9c-ab60-bca5cd78c3a5",
   "metadata": {},
   "outputs": [
    {
     "name": "stdout",
     "output_type": "stream",
     "text": [
      "Operator([1.+0.j, 0.+0.j],\n",
      "         input_dims=(), output_dims=(2,))\n"
     ]
    }
   ],
   "source": [
    "op_bra0 = Operator(bra0)\n",
    "\n",
    "op_bra0"
   ]
  },
  {
   "cell_type": "markdown",
   "id": "c1f9f7bd-d9c9-4165-b57a-08ece66224cb",
   "metadata": {},
   "source": [
    "La classe Operator est fournie avec quelques méthodes pratiques pour travailler avec les opérateurs, par exemple nous pouvons trouver le produit tensoriel de 2 opérateurs en utilisant la méthode `tensor()` :"
   ]
  },
  {
   "cell_type": "code",
   "execution_count": 12,
   "id": "811790e9-684c-4153-98e4-fefeef8ea780",
   "metadata": {},
   "outputs": [
    {
     "name": "stdout",
     "output_type": "stream",
     "text": [
      "Operator([[1.+0.j, 0.+0.j],\n",
      "          [0.+0.j, 0.+0.j]],\n",
      "         input_dims=(), output_dims=(2, 2))\n"
     ]
    }
   ],
   "source": [
    "op_ket0 = Operator(ket0)\n",
    "op_bra0.tensor(op_ket0)\n",
    "#print(op_bra0.tensor(op_ket0))"
   ]
  },
  {
   "cell_type": "markdown",
   "id": "c7cd2132-2c9b-418d-a2d9-e99fe73c9938",
   "metadata": {},
   "source": [
    "### Produit intérieur et extérieur\n",
    "\n",
    "Dans les cours, vous avez abordé les concepts de produit intérieur et de produit extérieur. Nous pouvons explorer ces concepts dans le code en utilisant les méthodes numpy `.dot()` (le produit intérieur est une forme généralisée du produit point) et `.outer()`.\n",
    "\n",
    "Par exemple, nous pouvons trouver le produit intérieur $\\langle0|0\\rangle$ comme ceci :"
   ]
  },
  {
   "cell_type": "code",
   "execution_count": 14,
   "id": "ff6b5e7f-8f05-4a88-aac5-dbcada127a9e",
   "metadata": {},
   "outputs": [
    {
     "data": {
      "text/latex": [
       "$$\n",
       "\n",
       "\\begin{bmatrix}\n",
       "1  \\\\\n",
       " \\end{bmatrix}\n",
       "$$"
      ],
      "text/plain": [
       "<IPython.core.display.Latex object>"
      ]
     },
     "execution_count": 14,
     "metadata": {},
     "output_type": "execute_result"
    }
   ],
   "source": [
    "braket = np.dot(op_bra0,op_ket0)\n",
    "array_to_latex(braket)"
   ]
  },
  {
   "cell_type": "markdown",
   "id": "96c91a37-e538-45b3-af6d-b99cf58adda6",
   "metadata": {},
   "source": [
    "et le produit extérieur $|0\\rangle\\langle0|$ comme ceci :"
   ]
  },
  {
   "cell_type": "code",
   "execution_count": 15,
   "id": "2716489a-ad85-4a7f-9288-a70a29c909c5",
   "metadata": {},
   "outputs": [
    {
     "data": {
      "text/latex": [
       "$$\n",
       "\n",
       "\\begin{bmatrix}\n",
       "1 & 0  \\\\\n",
       " 0 & 0  \\\\\n",
       " \\end{bmatrix}\n",
       "$$"
      ],
      "text/plain": [
       "<IPython.core.display.Latex object>"
      ]
     },
     "execution_count": 15,
     "metadata": {},
     "output_type": "execute_result"
    }
   ],
   "source": [
    "ketbra = np.outer(ket0,bra0)\n",
    "array_to_latex(ketbra)"
   ]
  },
  {
   "cell_type": "code",
   "execution_count": 16,
   "id": "a4866801-0c4f-4466-a1bd-f7c85541ba47",
   "metadata": {},
   "outputs": [
    {
     "data": {
      "text/latex": [
       "$$\n",
       "\n",
       "\\begin{bmatrix}\n",
       "1  \\\\\n",
       " \\end{bmatrix}\n",
       "$$"
      ],
      "text/plain": [
       "<IPython.core.display.Latex object>"
      ]
     },
     "execution_count": 16,
     "metadata": {},
     "output_type": "execute_result"
    }
   ],
   "source": [
    "braket = np.dot(op_bra0,op_ket0)\n",
    "array_to_latex(braket)"
   ]
  },
  {
   "cell_type": "markdown",
   "id": "667edb64-9057-4c5a-8985-fd0363b1f288",
   "metadata": {},
   "source": [
    "### Ex 2 - use numpy to find the result of the following inner and outer products: $\\langle1|0\\rangle, \\langle0|1\\rangle, \\langle1|1\\rangle, |1\\rangle\\langle0|, |0\\rangle\\langle1|$ and $|1\\rangle\\langle1| $"
   ]
  },
  {
   "cell_type": "code",
   "execution_count": 17,
   "id": "5cdf93e5-51f7-4f3e-a266-f78db3900f9b",
   "metadata": {},
   "outputs": [],
   "source": [
    "op_bra1 = Operator(bra1)\n",
    "op_ket1 = Operator(ket1)\n",
    "# put your answer for ⟨1|0⟩ here\n",
    "bra1ket0 = \n",
    "\n",
    "# put your answer for ⟨0|1⟩ here\n",
    "bra0ket1 = \n",
    "\n",
    "# put your answer for ⟨1|1⟩ here\n",
    "bra1ket1 = \n",
    "\n",
    "# put your answer for |1⟩⟨0| here\n",
    "ket1bra0 = \n",
    "\n",
    "# put your answer for |0⟩⟨1| here\n",
    "ket0bra1 = \n",
    "\n",
    "# put your answer for |1⟩⟨1| here\n",
    "ket1bra1 = "
   ]
  },
  {
   "cell_type": "markdown",
   "id": "dfe9dd90-001b-4cbf-a6c1-b58568544240",
   "metadata": {},
   "source": [
    "### Opérations déterministes\n",
    "\n",
    "Comme indiqué dans les cours, il existe 4 opérations déterministes sur un seul bit : \n",
    "f1 = constante-0 \n",
    "f2 = identité \n",
    "f3 = inversion de bit / non \n",
    "f4 = constante-1\n",
    "\n",
    "$$\n",
    "\\begin{array}{c|c}\n",
    " a & f_1(a)\\\\\n",
    " \\hline\n",
    " 0 & 0\\\\\n",
    " 1 & 0\n",
    "\\end{array}\n",
    "\\qquad\n",
    "\\begin{array}{c|c}\n",
    " a & f_2(a)\\\\\n",
    " \\hline\n",
    " 0 & 0\\\\\n",
    " 1 & 1\n",
    "\\end{array}\n",
    "\\qquad\n",
    "\\begin{array}{c|c}\n",
    " a & f_3(a)\\\\\n",
    " \\hline\n",
    " 0 & 1\\\\\n",
    " 1 & 0\n",
    "\\end{array}\n",
    "\\qquad\n",
    "\\begin{array}{c|c}\n",
    " a & f_4(a)\\\\\n",
    " \\hline\n",
    " 0 & 1\\\\\n",
    " 1 & 1\n",
    "\\end{array}\n",
    "$$\n",
    "\n",
    "Nous pouvons créer des opérateurs Qiskit pour ces 4 opérations, en passant leurs représentations matricielles comme arguments à la classe `Operator`.\n",
    "\n",
    "Par exemple, pour la constante-0, nous pouvons créer la matrice correspondante m1 de la manière suivante :"
   ]
  },
  {
   "cell_type": "code",
   "execution_count": 18,
   "id": "83123978-22c7-4668-9ae2-2a2e5ecc88f0",
   "metadata": {},
   "outputs": [
    {
     "data": {
      "text/latex": [
       "$$\n",
       "\n",
       "\\begin{bmatrix}\n",
       "1 & 1  \\\\\n",
       " 0 & 0  \\\\\n",
       " \\end{bmatrix}\n",
       "$$"
      ],
      "text/plain": [
       "<IPython.core.display.Latex object>"
      ]
     },
     "execution_count": 18,
     "metadata": {},
     "output_type": "execute_result"
    }
   ],
   "source": [
    "m1 = Operator([[1,1],[0,0]])\n",
    "array_to_latex(m1)"
   ]
  },
  {
   "cell_type": "code",
   "execution_count": 19,
   "id": "27b73988-2931-4723-abd5-74a4c2c68ece",
   "metadata": {},
   "outputs": [
    {
     "data": {
      "text/latex": [
       "$$\n",
       "\n",
       "\\begin{bmatrix}\n",
       "0 & 1  \\\\\n",
       " 1 & 0  \\\\\n",
       " \\end{bmatrix}\n",
       "$$"
      ],
      "text/plain": [
       "<IPython.core.display.Latex object>"
      ]
     },
     "execution_count": 19,
     "metadata": {},
     "output_type": "execute_result"
    }
   ],
   "source": [
    "m3 = Operator([[0,1],[1,0]])\n",
    "array_to_latex(m3)"
   ]
  },
  {
   "cell_type": "markdown",
   "id": "90134dbc-3f1a-41a5-918e-3e9e8efe728b",
   "metadata": {},
   "source": [
    "Nous pouvons également utiliser les opérations de mutliplication intégrées à python (par exemple `@`, `.dot`, ou `.matmul`) pour vérifier l'équation suivante : $ M|a\\rangle = f|a\\rangle $\n",
    "\n",
    "par exemple $ M1|0\\rangle = f1|0\\rangle $ = 0"
   ]
  },
  {
   "cell_type": "code",
   "execution_count": 20,
   "id": "c18a463d-7a0b-4cef-b215-2df56394de85",
   "metadata": {},
   "outputs": [
    {
     "data": {
      "text/latex": [
       "$$\n",
       "\n",
       "\\begin{bmatrix}\n",
       "1  \\\\\n",
       " 0  \\\\\n",
       " \\end{bmatrix}\n",
       "$$"
      ],
      "text/plain": [
       "<IPython.core.display.Latex object>"
      ]
     },
     "execution_count": 20,
     "metadata": {},
     "output_type": "execute_result"
    }
   ],
   "source": [
    "array_to_latex(m1@ket0)"
   ]
  },
  {
   "cell_type": "markdown",
   "id": "a8a1ff28-6595-44cf-8648-a8fa180948e1",
   "metadata": {},
   "source": [
    "### Ex 3 - créer des opérateurs Qiskit pour m2 et m4 (indice : consultez les cours pour trouver les matrices appropriées)"
   ]
  },
  {
   "cell_type": "code",
   "execution_count": 21,
   "id": "c6e38cee-0c1f-48b8-b6da-fd464e15fe40",
   "metadata": {},
   "outputs": [],
   "source": [
    "# create an operator for m2 here\n",
    "m2 = Operator([[1,0],[0,1]])\n",
    "# create and operator for m4 here\n"
   ]
  },
  {
   "cell_type": "markdown",
   "id": "7db3360e-7519-4613-84d5-663c8a5affdc",
   "metadata": {},
   "source": [
    "### Opérations probabilistes\n",
    "\n",
    "Une opération Controlled-NOT (ou CNOT) est une opération probabiliste que vous pouvez appliquer sur 2 qubits.\n",
    "\n",
    "L'application d'une opération CNOT sur un état (X,Y) consiste à effectuer une opération NOT sur Y lorsque X est à 1, sinon à ne rien faire.\n",
    "X est le bit de contrôle, Y est le bit cible.\n",
    "\n",
    "Nous pouvons implémenter une porte CNOT (et beaucoup d'autres portes quantiques) en utilisant une classe de la [bibliothèque de circuits de Qiskit] (https://qiskit.org/documentation/apidoc/circuit_library.html) :"
   ]
  },
  {
   "cell_type": "code",
   "execution_count": 22,
   "id": "d2dbee0b-a57f-41b5-9c28-162394bb3a04",
   "metadata": {},
   "outputs": [
    {
     "data": {
      "text/latex": [
       "$$\n",
       "\n",
       "\\begin{bmatrix}\n",
       "1 & 0 & 0 & 0  \\\\\n",
       " 0 & 0 & 0 & 1  \\\\\n",
       " 0 & 0 & 1 & 0  \\\\\n",
       " 0 & 1 & 0 & 0  \\\\\n",
       " \\end{bmatrix}\n",
       "$$"
      ],
      "text/plain": [
       "<IPython.core.display.Latex object>"
      ]
     },
     "execution_count": 22,
     "metadata": {},
     "output_type": "execute_result"
    }
   ],
   "source": [
    "cnot = CXGate()\n",
    "\n",
    "array_to_latex(cnot)"
   ]
  },
  {
   "cell_type": "markdown",
   "id": "cc11aa4b-7cb2-4f45-bfe0-f883efdeafea",
   "metadata": {},
   "source": [
    "## Opérations unitaires\n",
    "\n",
    "Un opérateur est unitaire si : $ UU^{\\dagger} = \\mathbb{1} = U^{\\dagger} U$\n",
    "\n",
    "Nous pouvons vérifier si un opérateur est unitaire en utilisant Qiskit avec la méthode `is_unitary()` :"
   ]
  },
  {
   "cell_type": "code",
   "execution_count": 23,
   "id": "4016dd6c-ed5e-4cfe-8ec0-631ff9082443",
   "metadata": {},
   "outputs": [
    {
     "data": {
      "text/plain": [
       "True"
      ]
     },
     "execution_count": 23,
     "metadata": {},
     "output_type": "execute_result"
    }
   ],
   "source": [
    "m3.is_unitary()"
   ]
  },
  {
   "cell_type": "markdown",
   "id": "cc4b0281-dded-4b41-8e39-986106703a6a",
   "metadata": {},
   "source": [
    "Avec de petits opérateurs tels que m3, nous pourrions probablement le déterminer facilement par nous-mêmes, mais avec des opérateurs plus complexes, il devient plus pratique d'utiliser la fonction Qiskit :"
   ]
  },
  {
   "cell_type": "code",
   "execution_count": 24,
   "id": "55bfe2cd-f12b-489f-bee2-aeb68650b9d4",
   "metadata": {},
   "outputs": [
    {
     "data": {
      "text/plain": [
       "True"
      ]
     },
     "execution_count": 24,
     "metadata": {},
     "output_type": "execute_result"
    }
   ],
   "source": [
    "random = Operator(np.array([[ 0.50778085-0.44607116j, -0.1523741 +0.14128434j,  0.44607116+0.50778085j,\n",
    "  -0.14128434-0.1523741j ],\n",
    " [ 0.16855994+0.12151822j,  0.55868196+0.38038841j, -0.12151822+0.16855994j,\n",
    "  -0.38038841+0.55868196j],\n",
    " [ 0.50778085-0.44607116j, -0.1523741 +0.14128434j, -0.44607116-0.50778085j,\n",
    "   0.14128434+0.1523741j ],\n",
    " [ 0.16855994+0.12151822j,  0.55868196+0.38038841j,  0.12151822-0.16855994j,\n",
    "   0.38038841-0.55868196j]]))\n",
    "\n",
    "random.is_unitary()"
   ]
  },
  {
   "cell_type": "markdown",
   "id": "c5596553-daf2-4a56-8f97-b5657695bba4",
   "metadata": {},
   "source": [
    "#### créer un opérateur utilisant la classe `Operator` qui n'est pas unitaire"
   ]
  },
  {
   "cell_type": "code",
   "execution_count": 28,
   "id": "f2fda671-6fa6-44db-b6e9-c638d0f6dee8",
   "metadata": {},
   "outputs": [
    {
     "data": {
      "text/plain": [
       "False"
      ]
     },
     "execution_count": 28,
     "metadata": {},
     "output_type": "execute_result"
    }
   ],
   "source": [
    "# Un exemple simple\n",
    "non_unitary_op = Operator([[1, 1/3],[4,1/7]])\n",
    "non_unitary_op.is_unitary()"
   ]
  },
  {
   "cell_type": "markdown",
   "id": "5506b861-8fa6-4445-b43f-c5dced20eb5e",
   "metadata": {},
   "source": [
    "### Opérations unitaires du Qubit - Opérations de Pauli\n",
    "\n",
    "Certaines des opérations unitaires les plus courantes en informatique quantique sont les opérations de Pauli. Les classes `Pauli` de Qiskit facilitent l'interaction avec les opérateurs de Pauli dans le code :"
   ]
  },
  {
   "cell_type": "markdown",
   "id": "77487e87-0848-4a25-8b8b-18744a338c23",
   "metadata": {},
   "source": [
    "Par exemple, Pauli X ($\\sigma_x$), le retournement des bits :"
   ]
  },
  {
   "cell_type": "code",
   "execution_count": 29,
   "id": "7a43f03e-c7a8-41d5-a46a-e3d7216d52ca",
   "metadata": {},
   "outputs": [
    {
     "data": {
      "text/latex": [
       "$$\n",
       "\n",
       "\\begin{bmatrix}\n",
       "0 & 1  \\\\\n",
       " 1 & 0  \\\\\n",
       " \\end{bmatrix}\n",
       "$$"
      ],
      "text/plain": [
       "<IPython.core.display.Latex object>"
      ]
     },
     "execution_count": 29,
     "metadata": {},
     "output_type": "execute_result"
    }
   ],
   "source": [
    "pauli_x = Pauli('X')\n",
    "\n",
    "array_to_latex(pauli_x)"
   ]
  },
  {
   "cell_type": "markdown",
   "id": "db74b0ba-aedf-4e87-9dc3-a8baf8f8ae0d",
   "metadata": {},
   "source": [
    "Pauli Y ($\\sigma_y$):"
   ]
  },
  {
   "cell_type": "code",
   "execution_count": 30,
   "id": "033b8c35-58fa-4ad6-a753-d18586049f68",
   "metadata": {},
   "outputs": [
    {
     "data": {
      "text/latex": [
       "$$\n",
       "\n",
       "\\begin{bmatrix}\n",
       "0 & - i  \\\\\n",
       " i & 0  \\\\\n",
       " \\end{bmatrix}\n",
       "$$"
      ],
      "text/plain": [
       "<IPython.core.display.Latex object>"
      ]
     },
     "execution_count": 30,
     "metadata": {},
     "output_type": "execute_result"
    }
   ],
   "source": [
    "pauli_y = Pauli('Y')\n",
    "\n",
    "array_to_latex(pauli_y)"
   ]
  },
  {
   "cell_type": "markdown",
   "id": "5eab5671-b067-4db0-8bbd-063260dd1244",
   "metadata": {},
   "source": [
    "Pauli Z ($\\sigma_z$), la flip de phase"
   ]
  },
  {
   "cell_type": "code",
   "execution_count": 31,
   "id": "b262064f-5086-478f-b01a-02fa7e7a368c",
   "metadata": {},
   "outputs": [
    {
     "data": {
      "text/latex": [
       "$$\n",
       "\n",
       "\\begin{bmatrix}\n",
       "1 & 0  \\\\\n",
       " 0 & -1  \\\\\n",
       " \\end{bmatrix}\n",
       "$$"
      ],
      "text/plain": [
       "<IPython.core.display.Latex object>"
      ]
     },
     "execution_count": 31,
     "metadata": {},
     "output_type": "execute_result"
    }
   ],
   "source": [
    "pauli_z = Pauli('Z')\n",
    "\n",
    "array_to_latex(pauli_z)"
   ]
  },
  {
   "cell_type": "code",
   "execution_count": 32,
   "id": "43c572fb-bab8-4dd7-8327-d8428260282e",
   "metadata": {},
   "outputs": [
    {
     "name": "stdout",
     "output_type": "stream",
     "text": [
      "Operator([[0.+0.j, 1.+0.j],\n",
      "          [1.+0.j, 0.+0.j]],\n",
      "         input_dims=(2,), output_dims=(2,))\n"
     ]
    }
   ],
   "source": [
    "op_x = Operator(pauli_x)\n",
    "\n",
    "op_x"
   ]
  },
  {
   "cell_type": "markdown",
   "id": "fb3024a9-9a53-4e72-b460-35404f743384",
   "metadata": {},
   "source": [
    "Utilisons la classe `Operator` et numpy pour trouver le résultat de $\\sigma_x|0\\rangle$"
   ]
  },
  {
   "cell_type": "code",
   "execution_count": 33,
   "id": "8a1d58ef-47d5-4da4-96c9-1deebc1604f3",
   "metadata": {},
   "outputs": [
    {
     "data": {
      "text/latex": [
       "$$\n",
       "\n",
       "\\begin{bmatrix}\n",
       "0  \\\\\n",
       " 1  \\\\\n",
       " \\end{bmatrix}\n",
       "$$"
      ],
      "text/plain": [
       "<IPython.core.display.Latex object>"
      ]
     },
     "execution_count": 33,
     "metadata": {},
     "output_type": "execute_result"
    }
   ],
   "source": [
    "op_new = np.dot(op_x,ket0)\n",
    "\n",
    "array_to_latex(op_new)"
   ]
  },
  {
   "cell_type": "markdown",
   "id": "d6fd6ac0-2604-48d2-9420-4c6a8fe676bd",
   "metadata": {},
   "source": [
    "### Ex4 Appliquez l'opérateur Pauli-Z sur $|1\\rangle$"
   ]
  },
  {
   "cell_type": "code",
   "execution_count": 34,
   "id": "0a09cd12-293a-4a46-9c37-aba66fd5779a",
   "metadata": {},
   "outputs": [],
   "source": [
    "##Votre code ici\n"
   ]
  },
  {
   "cell_type": "markdown",
   "id": "d526a19a-f7ba-4830-a24a-ceb04c3b23c1",
   "metadata": {},
   "source": [
    "### L'opérateur Hadamard\n",
    "\n",
    "La porte de Hadamard est l'une des opérations unitaires les plus importantes de l'informatique quantique. Nous pouvons implémenter une porte de Hadamard (et de nombreuses autres portes quantiques) en utilisant une classe de la [bibliothèque de circuits de Qiskit] (https://qiskit.org/documentation/apidoc/circuit_library.html) :"
   ]
  },
  {
   "cell_type": "code",
   "execution_count": 35,
   "id": "7d5931c0-1dce-4ed4-86b1-c1456d15a3f1",
   "metadata": {},
   "outputs": [
    {
     "data": {
      "text/latex": [
       "$$\n",
       "\n",
       "\\begin{bmatrix}\n",
       "\\frac{\\sqrt{2}}{2} & \\frac{\\sqrt{2}}{2}  \\\\\n",
       " \\frac{\\sqrt{2}}{2} & - \\frac{\\sqrt{2}}{2}  \\\\\n",
       " \\end{bmatrix}\n",
       "$$"
      ],
      "text/plain": [
       "<IPython.core.display.Latex object>"
      ]
     },
     "execution_count": 35,
     "metadata": {},
     "output_type": "execute_result"
    }
   ],
   "source": [
    "hadamard = HGate()\n",
    "\n",
    "array_to_latex(hadamard)"
   ]
  },
  {
   "cell_type": "markdown",
   "id": "d566d821-d349-41e9-b894-d9c88fa2fecb",
   "metadata": {},
   "source": [
    "Vous pouvez convertir de nombreuses classes Qiskit en opérateurs pour utiliser les fonctions spécifiques à la classe `Operator`, comme `is_unitary`"
   ]
  },
  {
   "cell_type": "code",
   "execution_count": 36,
   "id": "5c1e6f96-4b14-4f41-b650-b77f04d9b8ea",
   "metadata": {},
   "outputs": [
    {
     "data": {
      "text/plain": [
       "True"
      ]
     },
     "execution_count": 36,
     "metadata": {},
     "output_type": "execute_result"
    }
   ],
   "source": [
    "hop = Operator(hadamard)\n",
    "hop.is_unitary()"
   ]
  },
  {
   "cell_type": "markdown",
   "id": "b7b0a65f-9b48-409a-9ea7-9e6d426a360b",
   "metadata": {},
   "source": [
    "## Circuits quantiques\n",
    "\n",
    "Dans les cours, vous avez appris à créer un circuit quantique en utilisant un CNOT et une porte de Hadamard. Ce circuit crée l'état de Bell $|\\phi^+\\rangle$. Nous pouvons l'implémenter en utilisant la classe `QuantumCircuit` de Qiskit :"
   ]
  },
  {
   "cell_type": "code",
   "execution_count": 37,
   "id": "ccad0939-8662-4815-980a-9b3786645065",
   "metadata": {},
   "outputs": [
    {
     "data": {
      "image/png": "[encoded data removed]",
      "text/plain": [
       "<Figure size 287.294x200.667 with 1 Axes>"
      ]
     },
     "execution_count": 37,
     "metadata": {},
     "output_type": "execute_result"
    }
   ],
   "source": [
    "bell = QuantumCircuit(2)\n",
    "\n",
    "bell.h(0) # apply an H gate to the circuit\n",
    "bell.cx(0,1) # apply a CNOT gate to the circuit\n",
    "\n",
    "bell.draw(output=\"mpl\")"
   ]
  },
  {
   "cell_type": "markdown",
   "id": "361b95d8-9767-4ca9-824d-3e7e202988ed",
   "metadata": {},
   "source": [
    "Si nous voulons vérifier quelle est la représentation matricielle de cet état quantique, nous pouvons convertir le circuit directement en un opérateur :"
   ]
  },
  {
   "cell_type": "code",
   "execution_count": 38,
   "id": "53840535-5728-48d3-afe8-54edeed56690",
   "metadata": {},
   "outputs": [
    {
     "data": {
      "text/latex": [
       "$$\n",
       "\n",
       "\\begin{bmatrix}\n",
       "\\frac{\\sqrt{2}}{2} & \\frac{\\sqrt{2}}{2} & 0 & 0  \\\\\n",
       " 0 & 0 & \\frac{\\sqrt{2}}{2} & - \\frac{\\sqrt{2}}{2}  \\\\\n",
       " 0 & 0 & \\frac{\\sqrt{2}}{2} & \\frac{\\sqrt{2}}{2}  \\\\\n",
       " \\frac{\\sqrt{2}}{2} & - \\frac{\\sqrt{2}}{2} & 0 & 0  \\\\\n",
       " \\end{bmatrix}\n",
       "$$"
      ],
      "text/plain": [
       "<IPython.core.display.Latex object>"
      ]
     },
     "execution_count": 38,
     "metadata": {},
     "output_type": "execute_result"
    }
   ],
   "source": [
    "bell_op = Operator(bell)\n",
    "\n",
    "array_to_latex(bell_op)"
   ]
  },
  {
   "cell_type": "markdown",
   "id": "24bb311b-63fc-4e34-936f-817959d6bb3b",
   "metadata": {},
   "source": [
    "#### Ex 5 - L'état GHZ est similaire à l'état de Bell mais appliqué à 3 qubits. Créez un circuit quantique produisant l'état GHZ."
   ]
  },
  {
   "cell_type": "code",
   "execution_count": 39,
   "id": "708fc2a7-e817-4f65-a64c-be8583052635",
   "metadata": {},
   "outputs": [
    {
     "data": {
      "image/png": "[encoded data removed]",
      "text/plain": [
       "<Figure size 371.107x284.278 with 1 Axes>"
      ]
     },
     "execution_count": 39,
     "metadata": {},
     "output_type": "execute_result"
    }
   ],
   "source": [
    "ghz = QuantumCircuit(3)\n",
    "\n",
    "##############################\n",
    "# ajoutez les portes quantiques \n",
    "     # applier une porte Hadamard sur le premier qubit\n",
    "     # ajoute une porte CX sur les qubits 1 (qubit de contrôle), qubits 2 (qubit de cible)\n",
    "     # ajoute une porte CX sur les qubits 1 (qubit de contrôle), qubits 3 (qubit de cible)\n",
    "\n",
    "##############################\n",
    "\n",
    "ghz.draw(output='mpl')"
   ]
  },
  {
   "cell_type": "markdown",
   "id": "06853746-ea5a-4321-86fa-c79ff487468a",
   "metadata": {},
   "source": [
    "### Measuring Quantum states"
   ]
  },
  {
   "cell_type": "markdown",
   "id": "fa39e194-b217-413c-a99e-b2066805fc9b",
   "metadata": {},
   "source": [
    "Nous pouons trouver la probabilité des résultats de mesure en prenant la valeur absolue au carré des entrées d'un vecteur d'état quantique.\n",
    "\n",
    "Par exemple, lors de la mesure de l'état + : \n",
    "\n",
    "$+\\rangle = \\frac{1}{\\sqrt2}|0\\rangle + \\frac{1}{\\sqrt2}|1\\rangle $\n",
    "\n",
    "La probabilité de mesurer 0 ou 1 est donnée par ce qui suit :\n",
    "\n",
    "$ Pr(0) = |\\frac{1}{\\sqrt2}|^2 = \\frac{1}{2}$ \n",
    "$ Pr(1) = |\\frac{1}{\\sqrt2}|^2 = \\frac{1}{2}$"
   ]
  },
  {
   "cell_type": "markdown",
   "id": "67493f98-ce6c-4177-b35a-9b5ce3aa34b9",
   "metadata": {},
   "source": [
    "Créons un $|+\\rangle$ en utilisant la classe `Statevector` :"
   ]
  },
  {
   "cell_type": "code",
   "execution_count": 40,
   "id": "24974b73-c47e-4ddb-add9-e48fe474d157",
   "metadata": {},
   "outputs": [
    {
     "data": {
      "text/latex": [
       "$$\\frac{\\sqrt{2}}{2} |0\\rangle+\\frac{\\sqrt{2}}{2} |1\\rangle$$"
      ],
      "text/plain": [
       "<IPython.core.display.Latex object>"
      ]
     },
     "execution_count": 40,
     "metadata": {},
     "output_type": "execute_result"
    }
   ],
   "source": [
    "plus_state = Statevector.from_label(\"+\")\n",
    "\n",
    "plus_state.draw('latex')"
   ]
  },
  {
   "cell_type": "code",
   "execution_count": 41,
   "id": "cde87fab-a096-4e3d-b739-e5bb45dbae96",
   "metadata": {},
   "outputs": [
    {
     "name": "stdout",
     "output_type": "stream",
     "text": [
      "Statevector([0.70710678+0.j, 0.70710678+0.j],\n",
      "            dims=(2,))\n"
     ]
    }
   ],
   "source": [
    "plus_state"
   ]
  },
  {
   "cell_type": "markdown",
   "id": "f1359ef6-b5ab-4b49-91d5-115add01739a",
   "metadata": {},
   "source": [
    "Nous allons calculer la probabilité de mesurer 0 ou 1"
   ]
  },
  {
   "cell_type": "code",
   "execution_count": 42,
   "id": "e2acf720-a112-4a49-a4c3-86ccb25967bc",
   "metadata": {},
   "outputs": [
    {
     "data": {
      "text/plain": [
       "{np.str_('0'): np.float64(0.4999999999999999),\n",
       " np.str_('1'): np.float64(0.4999999999999999)}"
      ]
     },
     "execution_count": 42,
     "metadata": {},
     "output_type": "execute_result"
    }
   ],
   "source": [
    "plus_state.probabilities_dict()"
   ]
  },
  {
   "cell_type": "markdown",
   "id": "e8273eda-b15b-416d-bb03-e63eaf225d90",
   "metadata": {},
   "source": [
    "L'objet dictionnaire ci-dessus vous montre tous les résultats de mesure possibles et la probabilité de les obtenir. L'acte de mesurer force l'état à s'effondrer dans l'état 0 ou 1 :"
   ]
  },
  {
   "cell_type": "code",
   "execution_count": 44,
   "id": "e611de36-6a1b-4926-a28e-90a99aff8a6c",
   "metadata": {},
   "outputs": [
    {
     "data": {
      "text/plain": [
       "(np.str_('0'),\n",
       " Statevector([1.+0.j, 0.+0.j],\n",
       "             dims=(2,)))"
      ]
     },
     "execution_count": 44,
     "metadata": {},
     "output_type": "execute_result"
    }
   ],
   "source": [
    "# exécuter cette cellule plusieurs fois pour montrer l'effondrement dans l'un ou l'autre état\n",
    "res = plus_state.measure()\n",
    "\n",
    "res\n"
   ]
  },
  {
   "cell_type": "markdown",
   "id": "5c96d9c9-9375-4f88-8029-296ced40a35d",
   "metadata": {},
   "source": [
    "Nous pouvons mettre en œuvre le même état $|+\\rangle$ avec une mesure en utilisant un circuit quantique :"
   ]
  },
  {
   "cell_type": "code",
   "execution_count": 45,
   "id": "75fafcee-c651-44e7-862a-9bd98fd348e1",
   "metadata": {},
   "outputs": [
    {
     "data": {
      "image/png": "[encoded data removed]",
      "text/plain": [
       "<Figure size 269.064x200.667 with 1 Axes>"
      ]
     },
     "execution_count": 45,
     "metadata": {},
     "output_type": "execute_result"
    }
   ],
   "source": [
    "qc = QuantumCircuit(1,1)\n",
    "qc.h(0)\n",
    "qc.measure(0, 0)\n",
    "\n",
    "qc.draw(output=\"mpl\")"
   ]
  },
  {
   "cell_type": "markdown",
   "id": "291864af-af4a-48e3-ab47-b198ccce7854",
   "metadata": {},
   "source": [
    "Si nous exécutions ce circuit à l'aide d'un simulateur, nous obtiendrions les mêmes résultats qu'avec la classe statevector."
   ]
  },
  {
   "cell_type": "markdown",
   "id": "02ee6b09-d3d0-4293-b05d-49af0a1a75f9",
   "metadata": {},
   "source": [
    "Dans l'exemple suivant, utilisons la classe `Statevector` pour trouver les résultats de mesure d'un état dépendant et probabiliste. Nous allons trouver les probabilités de mesure pour l'état de Bell à 2 qubits $|\\phi^+\\rangle$ :"
   ]
  },
  {
   "cell_type": "code",
   "execution_count": 46,
   "id": "0016fc8c-d5a5-4540-b2b7-b1ce7a082332",
   "metadata": {},
   "outputs": [
    {
     "data": {
      "text/latex": [
       "$$\\frac{\\sqrt{2}}{2} |00\\rangle+\\frac{\\sqrt{2}}{2} |11\\rangle$$"
      ],
      "text/plain": [
       "<IPython.core.display.Latex object>"
      ]
     },
     "execution_count": 46,
     "metadata": {},
     "output_type": "execute_result"
    }
   ],
   "source": [
    "sv_bell = Statevector([np.sqrt(1/2), 0, 0, np.sqrt(1/2)])\n",
    "\n",
    "sv_bell.draw('latex')"
   ]
  },
  {
   "cell_type": "code",
   "execution_count": 47,
   "id": "8fed45ec-29fe-472f-9109-ca95cab3ed86",
   "metadata": {},
   "outputs": [
    {
     "data": {
      "text/plain": [
       "{np.str_('00'): np.float64(0.5000000000000001),\n",
       " np.str_('11'): np.float64(0.5000000000000001)}"
      ]
     },
     "execution_count": 47,
     "metadata": {},
     "output_type": "execute_result"
    }
   ],
   "source": [
    "sv_bell.probabilities_dict()"
   ]
  },
  {
   "cell_type": "markdown",
   "id": "f3be40f7-f101-4657-8e52-80ff0f80d715",
   "metadata": {},
   "source": [
    "#### Ex 6 - En utilisant la classe des vecteurs d'état, trouvez les probabilités pour les 3 autres états de la base de Bell : $|\\psi^+\\rangle$, $|\\psi^-\\rangle$, $|\\phi^-\\rangle$. Conseil : consultez la leçon 2 pour vous rafraîchir la mémoire sur les équations des états de Bell."
   ]
  },
  {
   "cell_type": "code",
   "execution_count": 55,
   "id": "d362f017-7ccd-4233-a1d0-e911bea99bc0",
   "metadata": {},
   "outputs": [],
   "source": [
    "# Créer un état |𝜓+⟩ ici\n"
   ]
  },
  {
   "cell_type": "code",
   "execution_count": 57,
   "id": "cf02bbd3-33cb-459b-a6ab-f85cae64a622",
   "metadata": {},
   "outputs": [
    {
     "data": {
      "text/latex": [
       "$$\\frac{\\sqrt{2}}{2} |01\\rangle+\\frac{\\sqrt{2}}{2} |10\\rangle$$"
      ],
      "text/plain": [
       "<IPython.core.display.Latex object>"
      ]
     },
     "execution_count": 57,
     "metadata": {},
     "output_type": "execute_result"
    }
   ],
   "source": [
    "sv_psi_plus.draw('latex')"
   ]
  },
  {
   "cell_type": "code",
   "execution_count": 60,
   "id": "1f0fc6e9-eb44-4d1a-ab01-5af38d7ca427",
   "metadata": {},
   "outputs": [
    {
     "data": {
      "text/plain": [
       "{np.str_('01'): np.float64(0.5000000000000001),\n",
       " np.str_('10'): np.float64(0.5000000000000001)}"
      ]
     },
     "execution_count": 60,
     "metadata": {},
     "output_type": "execute_result"
    }
   ],
   "source": [
    "# Trouver les probabilités pour |𝜓+⟩ \n",
    "prob_psi_plus = sv_psi_plus.probabilities_dict()\n",
    "sv_psi_plus.probabilities_dict()"
   ]
  },
  {
   "cell_type": "code",
   "execution_count": 51,
   "id": "181a2deb-2580-4b9f-820c-765980ed12c6",
   "metadata": {},
   "outputs": [],
   "source": [
    "# créer un état |𝜓−⟩ ici\n",
    "sv_psi_minus = Statevector([0,np.sqrt(1/2),-np.sqrt(1/2),0])\n",
    "# trouver les probabilités pour |𝜓−⟩ \n",
    "prob_psi_minus = sv_psi_minus.probabilities_dict()"
   ]
  },
  {
   "cell_type": "code",
   "execution_count": 61,
   "id": "03eb6408-f347-4daf-af1c-d0de657c82fb",
   "metadata": {},
   "outputs": [
    {
     "data": {
      "text/latex": [
       "$$\\frac{\\sqrt{2}}{2} |01\\rangle- \\frac{\\sqrt{2}}{2} |10\\rangle$$"
      ],
      "text/plain": [
       "<IPython.core.display.Latex object>"
      ]
     },
     "execution_count": 61,
     "metadata": {},
     "output_type": "execute_result"
    }
   ],
   "source": [
    "# créer un état |𝜙−⟩ \n",
    "sv_phi_minus = Statevector([np.sqrt(1/2), 0, 0, -np.sqrt(1/2)])\n",
    "sv_psi_minus.draw('latex')"
   ]
  },
  {
   "cell_type": "code",
   "execution_count": 62,
   "id": "1e75181d-cd91-4631-aeef-c5861a17366b",
   "metadata": {},
   "outputs": [
    {
     "data": {
      "text/plain": [
       "{np.str_('00'): np.float64(0.5000000000000001),\n",
       " np.str_('11'): np.float64(0.5000000000000001)}"
      ]
     },
     "execution_count": 62,
     "metadata": {},
     "output_type": "execute_result"
    }
   ],
   "source": [
    "\n",
    "# trouver les probabilités pour |𝜙−⟩ \n",
    "prob_phi_minus = sv_phi_minus.probabilities_dict()\n",
    "sv_phi_minus.probabilities_dict()"
   ]
  },
  {
   "cell_type": "markdown",
   "id": "1fff6f29-486b-4a22-b4ca-90a2d53a3261",
   "metadata": {},
   "source": [
    "### Générer un circuit QFT\n",
    "\n",
    "[La transformée de Fourier (https://en.wikipedia.org/wiki/Fourier_transform) se présente sous de nombreux formats différents dans l'informatique classique, dans des domaines allant du traitement des signaux à la compression des données en passant par la théorie de la complexité. La transformée de Fourier quantique (QFT) est l'implémentation quantique de la transformée de Fourier discrète sur les amplitudes d'une fonction d'onde. Elle fait partie de nombreux algorithmes quantiques, notamment l'algorithme de factorisation de Shor et l'estimation quantique de la phase. Nous aimerions que vous utilisiez Qiskit pour créer le circuit QFT suivant sur 2 qubits :"
   ]
  },
  {
   "cell_type": "markdown",
   "id": "d6e6b717-ec17-41df-a725-751b3227c152",
   "metadata": {},
   "source": [
    "#### Ex 7 - créer un circuit QFT à 2 qubits en utilisant qiskit"
   ]
  },
  {
   "cell_type": "code",
   "execution_count": 64,
   "id": "69518e0e-bc14-4596-99b9-077fe9902a88",
   "metadata": {},
   "outputs": [
    {
     "data": {
      "image/png": "[encoded data removed]",
      "text/plain": [
       "<Figure size 454.517x200.667 with 1 Axes>"
      ]
     },
     "execution_count": 64,
     "metadata": {},
     "output_type": "execute_result"
    }
   ],
   "source": [
    "qft = QuantumCircuit(2)\n",
    "\n",
    "##############################\n",
    "# créer le circuit quantique ici\n",
    " # appliquer une porte Hadamard sur le 2ème qubit\n",
    "\n",
    "\n",
    "\n",
    "##############################\n",
    "\n",
    "qft.draw(output='mpl')"
   ]
  },
  {
   "cell_type": "code",
   "execution_count": null,
   "id": "198fd16c-de6b-4d9d-971b-88fc707b4966",
   "metadata": {},
   "outputs": [],
   "source": []
  }
 ],
 "metadata": {
  "kernelspec": {
   "display_name": "Python 3 (ipykernel)",
   "language": "python",
   "name": "python3"
  },
  "language_info": {
   "codemirror_mode": {
    "name": "ipython",
    "version": 3
   },
   "file_extension": ".py",
   "mimetype": "text/x-python",
   "name": "python",
   "nbconvert_exporter": "python",
   "pygments_lexer": "ipython3",
   "version": "3.10.16"
  }
 },
 "nbformat": 4,
 "nbformat_minor": 5
}
